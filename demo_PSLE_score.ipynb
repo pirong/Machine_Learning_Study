{
 "cells": [
  {
   "cell_type": "code",
   "execution_count": 2,
   "id": "11d2256d",
   "metadata": {},
   "outputs": [
    {
     "name": "stdout",
     "output_type": "stream",
     "text": [
      "   bus_connections zone_code             type_code   nature_code  \\\n",
      "0                1     NORTH     GOVERNMENT SCHOOL  CO-ED SCHOOL   \n",
      "1               13     NORTH     GOVERNMENT SCHOOL  CO-ED SCHOOL   \n",
      "2                5     NORTH     GOVERNMENT SCHOOL  CO-ED SCHOOL   \n",
      "3               11      EAST  GOVERNMENT-AIDED SCH  CO-ED SCHOOL   \n",
      "4               15     SOUTH     GOVERNMENT SCHOOL  CO-ED SCHOOL   \n",
      "5                4     SOUTH    INDEPENDENT SCHOOL  CO-ED SCHOOL   \n",
      "6                6     SOUTH  GOVERNMENT-AIDED SCH  BOYS' SCHOOL   \n",
      "7                2      WEST     GOVERNMENT SCHOOL  CO-ED SCHOOL   \n",
      "8                8     NORTH  GOVERNMENT-AIDED SCH  BOYS' SCHOOL   \n",
      "9                9      WEST  GOVERNMENT-AIDED SCH  CO-ED SCHOOL   \n",
      "\n",
      "     session_code  secondary_and_jc  sap_ind  autonomous_ind  gifted_ind  \\\n",
      "0  SINGLE SESSION                 0        0               0           0   \n",
      "1  SINGLE SESSION                 0        0               0           0   \n",
      "2  SINGLE SESSION                 0        0               1           0   \n",
      "3  SINGLE SESSION                 0        1               1           0   \n",
      "4  SINGLE SESSION                 0        0               0           0   \n",
      "5  SINGLE SESSION                 1        0               0           1   \n",
      "6  SINGLE SESSION                 0        0               0           0   \n",
      "7  SINGLE SESSION                 0        0               1           0   \n",
      "8  SINGLE SESSION                 1        1               1           1   \n",
      "9  SINGLE SESSION                 0        0               0           0   \n",
      "\n",
      "   ip_ind  clubs_cca  others_cca  sports_cca  uniform_cca  arts_cca  \\\n",
      "0       0          1           0           5            3         6   \n",
      "1       0          1           0           4            5         5   \n",
      "2       0          4           1           6            3         6   \n",
      "3       0          4           0           4            7         7   \n",
      "4       0          2           0           6            5         6   \n",
      "5       1         22           1          19            9        10   \n",
      "6       0          4           0          12            4         5   \n",
      "7       0          4           0           5            5         5   \n",
      "8       1          1           0           7            5         6   \n",
      "9       0          1           0           5            4         3   \n",
      "\n",
      "   moe_programmes_number  PSLE_score  \n",
      "0                      0          20  \n",
      "1                      1          17  \n",
      "2                      3          10  \n",
      "3                      1          12  \n",
      "4                      0          16  \n",
      "5                      2           9  \n",
      "6                      0          11  \n",
      "7                      3          11  \n",
      "8                      2           9  \n",
      "9                      0          22  \n"
     ]
    }
   ],
   "source": [
    "import pandas as pd\n",
    "from sklearn.model_selection import train_test_split\n",
    "from sklearn import ensemble\n",
    "from sklearn.metrics import mean_absolute_error\n",
    "from sklearn.model_selection import GridSearchCV\n",
    "import joblib\n",
    "\n",
    "# Load the dataset\n",
    "df = pd.read_csv(\"general-information-of-schools-usage.csv\")\n",
    "\n",
    "print(df.head(10))"
   ]
  },
  {
   "cell_type": "code",
   "execution_count": 3,
   "id": "14425765",
   "metadata": {
    "scrolled": true
   },
   "outputs": [
    {
     "name": "stdout",
     "output_type": "stream",
     "text": [
      "   bus_connections  secondary_and_jc  sap_ind  autonomous_ind  gifted_ind  \\\n",
      "0                1                 0        0               0           0   \n",
      "1               13                 0        0               0           0   \n",
      "2                5                 0        0               1           0   \n",
      "3               11                 0        1               1           0   \n",
      "4               15                 0        0               0           0   \n",
      "5                4                 1        0               0           1   \n",
      "6                6                 0        0               0           0   \n",
      "7                2                 0        0               1           0   \n",
      "8                8                 1        1               1           1   \n",
      "9                9                 0        0               0           0   \n",
      "\n",
      "   ip_ind  clubs_cca  others_cca  sports_cca  uniform_cca  ...  \\\n",
      "0       0          1           0           5            3  ...   \n",
      "1       0          1           0           4            5  ...   \n",
      "2       0          4           1           6            3  ...   \n",
      "3       0          4           0           4            7  ...   \n",
      "4       0          2           0           6            5  ...   \n",
      "5       1         22           1          19            9  ...   \n",
      "6       0          4           0          12            4  ...   \n",
      "7       0          4           0           5            5  ...   \n",
      "8       1          1           0           7            5  ...   \n",
      "9       0          1           0           5            4  ...   \n",
      "\n",
      "   type_code_GOVERNMENT SCHOOL  type_code_GOVERNMENT-AIDED SCH  \\\n",
      "0                            1                               0   \n",
      "1                            1                               0   \n",
      "2                            1                               0   \n",
      "3                            0                               1   \n",
      "4                            1                               0   \n",
      "5                            0                               0   \n",
      "6                            0                               1   \n",
      "7                            1                               0   \n",
      "8                            0                               1   \n",
      "9                            0                               1   \n",
      "\n",
      "   type_code_INDEPENDENT SCHOOL  type_code_SPECIALISED INDEPENDENT SCHOOL  \\\n",
      "0                             0                                         0   \n",
      "1                             0                                         0   \n",
      "2                             0                                         0   \n",
      "3                             0                                         0   \n",
      "4                             0                                         0   \n",
      "5                             1                                         0   \n",
      "6                             0                                         0   \n",
      "7                             0                                         0   \n",
      "8                             0                                         0   \n",
      "9                             0                                         0   \n",
      "\n",
      "   type_code_SPECIALISED SCHOOL  nature_code_BOYS' SCHOOL  \\\n",
      "0                             0                         0   \n",
      "1                             0                         0   \n",
      "2                             0                         0   \n",
      "3                             0                         0   \n",
      "4                             0                         0   \n",
      "5                             0                         0   \n",
      "6                             0                         1   \n",
      "7                             0                         0   \n",
      "8                             0                         1   \n",
      "9                             0                         0   \n",
      "\n",
      "   nature_code_CO-ED SCHOOL  nature_code_GIRLS' SCHOOL  session_code_FULL DAY  \\\n",
      "0                         1                          0                      0   \n",
      "1                         1                          0                      0   \n",
      "2                         1                          0                      0   \n",
      "3                         1                          0                      0   \n",
      "4                         1                          0                      0   \n",
      "5                         1                          0                      0   \n",
      "6                         0                          0                      0   \n",
      "7                         1                          0                      0   \n",
      "8                         0                          0                      0   \n",
      "9                         1                          0                      0   \n",
      "\n",
      "   session_code_SINGLE SESSION  \n",
      "0                            1  \n",
      "1                            1  \n",
      "2                            1  \n",
      "3                            1  \n",
      "4                            1  \n",
      "5                            1  \n",
      "6                            1  \n",
      "7                            1  \n",
      "8                            1  \n",
      "9                            1  \n",
      "\n",
      "[10 rows x 26 columns]\n"
     ]
    }
   ],
   "source": [
    "# Apply categorical data with one-hot encoding\n",
    "features_df = pd.get_dummies(df, columns=['zone_code', 'type_code', 'nature_code','session_code'])\n",
    "\n",
    "# Remove the PSLE score from the feature data\n",
    "del features_df[\"PSLE_score\"]\n",
    "\n",
    "print(features_df.head(10))\n",
    "\n",
    "# Create the X and y arrays\n",
    "X = features_df.to_numpy()\n",
    "y = df[\"PSLE_score\"].to_numpy()\n",
    "\n",
    "# Split the dataset into training set and test set (70%/30%)\n",
    "X_train, X_test, y_train, y_test = train_test_split(X, y, test_size=0.3, random_state=8)"
   ]
  },
  {
   "cell_type": "code",
   "execution_count": 7,
   "id": "ee3bbd17",
   "metadata": {},
   "outputs": [
    {
     "name": "stdout",
     "output_type": "stream",
     "text": [
      "Training Set Mean Absolute Error :  0.7273535541582427\n",
      "Testing Set Mean Absolute Error :  1.832602066177619\n"
     ]
    },
    {
     "data": {
      "text/plain": [
       "['trained_PSLE_regressor_model.pkl']"
      ]
     },
     "execution_count": 7,
     "metadata": {},
     "output_type": "execute_result"
    }
   ],
   "source": [
    "# Create and fit the model (Grid Search)\n",
    "model = ensemble.GradientBoostingRegressor(\n",
    "        n_estimators = 50,\n",
    "        learning_rate = 0.2,\n",
    "        max_depth = 5,\n",
    "        min_samples_leaf = 3,\n",
    "        max_features = 4,\n",
    "        loss = \"ls\",\n",
    "        subsample = 0.8,\n",
    "        random_state = 8\n",
    ")\n",
    "\n",
    "# Parameters we want to try\n",
    "param_grid = {\n",
    "    'n_estimators': [30, 40, 50],\n",
    "    'max_depth': [4, 5, 6],\n",
    "    'min_samples_leaf': [1, 2, 3],\n",
    "    'learning_rate': [0.2, 0.3],\n",
    "    'loss': ['ls', 'lad', 'huber']\n",
    "}\n",
    "\n",
    "gs_cv = GridSearchCV(model, param_grid, n_jobs=4, verbose=100)\n",
    "gs_cv.fit(X_train, y_train)\n",
    "print(gs_cv.best_params_)\n",
    "\n",
    "# While Grid Search comes close to giving us the best combination of hyper-parameters for the training dataset\n",
    "# This does not corespond to the bext combination for the test dataset\n",
    "# I still did some individual tuning to obtain optimal hyper-parameters (shown below) for both the training and test dataset \n",
    "# {'learning_rate': 0.2, 'loss': 'ls', 'max_depth': 5, 'min_samples_leaf': 3, 'n_estimators': 50}\n",
    "\n",
    "model.fit(X_train, y_train)\n",
    "\n",
    "# Find the error rate on the training dataset\n",
    "mae = mean_absolute_error(y_train, model.predict(X_train))\n",
    "print(\"Training Set Mean Absolute Error : \", mae)\n",
    "\n",
    "# Find the error rate on the test dataset\n",
    "mae = mean_absolute_error(y_test, model.predict(X_test))\n",
    "print(\"Testing Set Mean Absolute Error : \", mae)\n",
    "\n",
    "# Save the train model\n",
    "joblib.dump(model, 'trained_PSLE_regressor_model.pkl')"
   ]
  },
  {
   "cell_type": "code",
   "execution_count": 6,
   "id": "5bf8a1fb",
   "metadata": {},
   "outputs": [
    {
     "name": "stdout",
     "output_type": "stream",
     "text": [
      "Training Set Mean Absolute Error :  1.789797026363039\n",
      "Testing Set Mean Absolute Error :  2.478084325283088\n"
     ]
    }
   ],
   "source": [
    "# Testing alternative models (Linear Regression)\n",
    "from sklearn.linear_model import LinearRegression\n",
    "LR = LinearRegression()\n",
    "LR.fit(X_train, y_train)\n",
    "\n",
    "# Find the error rate on the training dataset\n",
    "mae = mean_absolute_error(y_train, LR.predict(X_train))\n",
    "print(\"Training Set Mean Absolute Error : \", mae)\n",
    "\n",
    "# Find the error rate on the test dataset\n",
    "mae = mean_absolute_error(y_test, LR.predict(X_test))\n",
    "print(\"Testing Set Mean Absolute Error : \", mae)"
   ]
  },
  {
   "cell_type": "code",
   "execution_count": 16,
   "id": "1134d624",
   "metadata": {},
   "outputs": [
    {
     "name": "stdout",
     "output_type": "stream",
     "text": [
      "Training Set Mean Absolute Error :  1.3113207547169812\n",
      "Testing Set Mean Absolute Error :  2.760869565217391\n"
     ]
    }
   ],
   "source": [
    "# Testing alternative models (Logistic Regression)\n",
    "from sklearn.linear_model import LogisticRegression\n",
    "\n",
    "LR = LogisticRegression(solver='newton-cg', multi_class='auto')\n",
    "LR.fit(X_train, y_train)\n",
    "\n",
    "# Find the error rate on the training dataset\n",
    "mae = mean_absolute_error(y_train, LR.predict(X_train))\n",
    "print(\"Training Set Mean Absolute Error : \", mae)\n",
    "\n",
    "# Find the error rate on the test dataset\n",
    "mae = mean_absolute_error(y_test, LR.predict(X_test))\n",
    "print(\"Testing Set Mean Absolute Error : \", mae)"
   ]
  },
  {
   "cell_type": "code",
   "execution_count": 20,
   "id": "9729d5b8",
   "metadata": {},
   "outputs": [
    {
     "name": "stdout",
     "output_type": "stream",
     "text": [
      "Training Set Mean Absolute Error :  0.0\n",
      "Testing Set Mean Absolute Error :  2.152173913043478\n"
     ]
    }
   ],
   "source": [
    "# Testing alternative models (Decision Tree Regressor)\n",
    "from sklearn.tree import DecisionTreeRegressor\n",
    "\n",
    "DTR = DecisionTreeRegressor()\n",
    "DTR.fit(X_train, y_train)\n",
    "\n",
    "# Find the error rate on the training dataset\n",
    "mae = mean_absolute_error(y_train, DTR.predict(X_train))\n",
    "print(\"Training Set Mean Absolute Error : \", mae)\n",
    "\n",
    "# Find the error rate on the test dataset\n",
    "mae = mean_absolute_error(y_test, DTR.predict(X_test))\n",
    "print(\"Testing Set Mean Absolute Error : \", mae)"
   ]
  },
  {
   "cell_type": "code",
   "execution_count": 33,
   "id": "74cb4a7e",
   "metadata": {},
   "outputs": [
    {
     "name": "stdout",
     "output_type": "stream",
     "text": [
      "Training Set Mean Absolute Error :  2.450943396226415\n",
      "Testing Set Mean Absolute Error :  2.7913043478260864\n"
     ]
    }
   ],
   "source": [
    "# Testing alternative models (K-Nearest Neighbours)\n",
    "from sklearn.neighbors import KNeighborsRegressor\n",
    "\n",
    "KNN = KNeighborsRegressor(n_neighbors=5)\n",
    "KNN.fit(X_train, y_train)\n",
    "\n",
    "# Find the error rate on the training dataset\n",
    "mae = mean_absolute_error(y_train, KNN.predict(X_train))\n",
    "print(\"Training Set Mean Absolute Error : \", mae)\n",
    "\n",
    "# Find the error rate on the test dataset\n",
    "mae = mean_absolute_error(y_test, KNN.predict(X_test))\n",
    "print(\"Testing Set Mean Absolute Error : \", mae)"
   ]
  },
  {
   "cell_type": "code",
   "execution_count": 14,
   "id": "e5312a35",
   "metadata": {},
   "outputs": [
    {
     "name": "stdout",
     "output_type": "stream",
     "text": [
      "Training Set Mean Absolute Error :  0.7990988425328764\n",
      "Testing Set Mean Absolute Error :  2.1467309746116476\n"
     ]
    }
   ],
   "source": [
    "#Testing alternative models (Default Ensemble Learning Without Hyperparameters)\n",
    "from sklearn import ensemble\n",
    "\n",
    "model = ensemble.GradientBoostingRegressor()\n",
    "model.fit(X_train, y_train)\n",
    "\n",
    "# Find the error rate on the training dataset\n",
    "mae = mean_absolute_error(y_train, model.predict(X_train))\n",
    "print(\"Training Set Mean Absolute Error : \", mae)\n",
    "\n",
    "# Find the error rate on the test dataset\n",
    "mae = mean_absolute_error(y_test, model.predict(X_test))\n",
    "print(\"Testing Set Mean Absolute Error : \", mae)"
   ]
  },
  {
   "cell_type": "code",
   "execution_count": 37,
   "id": "2d1be03f",
   "metadata": {
    "scrolled": true
   },
   "outputs": [
    {
     "name": "stdout",
     "output_type": "stream",
     "text": [
      "[8.00669505]\n"
     ]
    }
   ],
   "source": [
    "import numpy as np\n",
    "features = np.array([[3, # bus connections\n",
    "                      0,  # secondary_and_jc\n",
    "                      0,  # sap_ind\n",
    "                      0,  # autonomous_ind\n",
    "                      1,  # gifted_ind\n",
    "                      1,  # ip_ind\n",
    "                      10,  # clubs_cca\n",
    "                      4,  # others_cca\n",
    "                      5,  # sports_cca\n",
    "                      6,  # uniform_cca\n",
    "                      9,  # arts_cca\n",
    "                      3,  # moe_programmes_number\n",
    "                      0,  # zone_code_EAST\n",
    "                      0,  # zone_code_NORTH\n",
    "                      0,  # zone_code_SOUTH\n",
    "                      1,  # zone_code_WEST\n",
    "                      0,  # type_code_GOVERNMENT SCHOOL\n",
    "                      1,  # type_code_GOVERNMENT-AIDED SCH\n",
    "                      0,  # type_code_INDEPENDENT SCHOOL\n",
    "                      0,  # type_code_SPECIALISED INDEPENDENT SCHOOL\n",
    "                      0,  # type_code_SPECIALISED SCHOOL\n",
    "                      0,  # nature_code_BOYS' SCHOOL\n",
    "                      1,  # nature_code_CO-ED SCHOOL\n",
    "                      0,  # nature_code_GIRLS' SCHOOL\n",
    "                      0,  # session_code_FULL DAY\n",
    "                      1   # session_code_SINGLE SESSION\n",
    "                     ]])\n",
    "\n",
    "print(model.predict(features))"
   ]
  },
  {
   "cell_type": "code",
   "execution_count": 9,
   "id": "ca9841d4",
   "metadata": {},
   "outputs": [
    {
     "name": "stdout",
     "output_type": "stream",
     "text": [
      "session_code_SINGLE SESSION - 0.02%\n",
      "session_code_FULL DAY - 0.04%\n",
      "nature_code_GIRLS' SCHOOL - 0.07%\n",
      "type_code_INDEPENDENT SCHOOL - 0.08%\n",
      "nature_code_BOYS' SCHOOL - 0.21%\n",
      "secondary_and_jc - 0.26%\n",
      "others_cca - 0.44%\n",
      "nature_code_CO-ED SCHOOL - 0.48%\n",
      "zone_code_NORTH - 0.54%\n",
      "type_code_SPECIALISED INDEPENDENT SCHOOL - 0.54%\n",
      "type_code_GOVERNMENT-AIDED SCH - 0.57%\n",
      "gifted_ind - 0.62%\n",
      "zone_code_SOUTH - 0.75%\n",
      "zone_code_WEST - 0.81%\n",
      "zone_code_EAST - 2.18%\n",
      "sap_ind - 2.84%\n",
      "clubs_cca - 4.38%\n",
      "bus_connections - 4.56%\n",
      "type_code_SPECIALISED SCHOOL - 4.90%\n",
      "uniform_cca - 5.29%\n",
      "ip_ind - 6.29%\n",
      "type_code_GOVERNMENT SCHOOL - 6.97%\n",
      "autonomous_ind - 8.27%\n",
      "arts_cca - 9.55%\n",
      "sports_cca - 12.58%\n",
      "moe_programmes_number - 26.76%\n"
     ]
    }
   ],
   "source": [
    "feature_labels = features_df.columns.values\n",
    "\n",
    "# Create a numpy array based on the model's feature importances\n",
    "importance = model.feature_importances_\n",
    "\n",
    "# Sort the feature labels based on the feature importance rankings from the model\n",
    "feature_indexes_by_importance = importance.argsort()\n",
    "\n",
    "# Print each feature label, from most important to least important (reverse order)\n",
    "for index in feature_indexes_by_importance:\n",
    "    print(\"{} - {:.2f}%\".format(feature_labels[index], (importance[index] * 100.0)))"
   ]
  },
  {
   "cell_type": "code",
   "execution_count": null,
   "id": "8b5ca77e",
   "metadata": {},
   "outputs": [],
   "source": []
  }
 ],
 "metadata": {
  "celltoolbar": "Raw Cell Format",
  "kernelspec": {
   "display_name": "Python 3",
   "language": "python",
   "name": "python3"
  },
  "language_info": {
   "codemirror_mode": {
    "name": "ipython",
    "version": 3
   },
   "file_extension": ".py",
   "mimetype": "text/x-python",
   "name": "python",
   "nbconvert_exporter": "python",
   "pygments_lexer": "ipython3",
   "version": "3.8.8"
  }
 },
 "nbformat": 4,
 "nbformat_minor": 5
}
